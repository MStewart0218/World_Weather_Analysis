{
 "cells": [
  {
   "cell_type": "code",
   "execution_count": 158,
   "metadata": {},
   "outputs": [],
   "source": [
    "# Import the random module.\n",
    "import random"
   ]
  },
  {
   "cell_type": "code",
   "execution_count": 159,
   "id": "98b52a10",
   "metadata": {},
   "outputs": [
    {
     "data": {
      "text/plain": [
       "-75"
      ]
     },
     "execution_count": 159,
     "metadata": {},
     "output_type": "execute_result"
    }
   ],
   "source": [
    "random.randint(-90, 90)"
   ]
  },
  {
   "cell_type": "code",
   "execution_count": 160,
   "id": "e00950ca",
   "metadata": {},
   "outputs": [
    {
     "data": {
      "text/plain": [
       "0.7632127615114535"
      ]
     },
     "execution_count": 160,
     "metadata": {},
     "output_type": "execute_result"
    }
   ],
   "source": [
    "random.random()"
   ]
  },
  {
   "cell_type": "code",
   "execution_count": 161,
   "id": "a5fa6b7a",
   "metadata": {},
   "outputs": [
    {
     "data": {
      "text/plain": [
       "-81.17468511665898"
      ]
     },
     "execution_count": 161,
     "metadata": {},
     "output_type": "execute_result"
    }
   ],
   "source": [
    "random_number = random.randint(-90,89) + random.random()\n",
    "random_number"
   ]
  },
  {
   "cell_type": "code",
   "execution_count": 162,
   "id": "54485686",
   "metadata": {},
   "outputs": [
    {
     "data": {
      "text/plain": [
       "[-59.443653135553404,\n",
       " 48.15164728649242,\n",
       " -86.87490564651125,\n",
       " -32.290188754427085,\n",
       " -53.90601127255292,\n",
       " -0.40741913615746017,\n",
       " 67.83604669272866,\n",
       " -64.76784881657832,\n",
       " -21.932486027445922,\n",
       " 54.13807805870744]"
      ]
     },
     "execution_count": 162,
     "metadata": {},
     "output_type": "execute_result"
    }
   ],
   "source": [
    "x = 1\n",
    "latitudes = []\n",
    "while x < 11:\n",
    "    random_lat = random.randint(-90, 89) + random.random()\n",
    "    latitudes.append(random_lat)\n",
    "    x += 1\n",
    "\n",
    "latitudes    "
   ]
  },
  {
   "cell_type": "code",
   "execution_count": 163,
   "id": "c763d6e4",
   "metadata": {},
   "outputs": [
    {
     "data": {
      "text/plain": [
       "-77"
      ]
     },
     "execution_count": 163,
     "metadata": {},
     "output_type": "execute_result"
    }
   ],
   "source": [
    "random.randrange(-90,90, step=1)"
   ]
  },
  {
   "cell_type": "code",
   "execution_count": 164,
   "id": "2499085c",
   "metadata": {},
   "outputs": [
    {
     "data": {
      "text/plain": [
       "42"
      ]
     },
     "execution_count": 164,
     "metadata": {},
     "output_type": "execute_result"
    }
   ],
   "source": [
    "random.randrange(-90,90, step=3)"
   ]
  },
  {
   "cell_type": "code",
   "execution_count": 165,
   "id": "35d4456a",
   "metadata": {},
   "outputs": [
    {
     "data": {
      "text/plain": [
       "78.85379106086577"
      ]
     },
     "execution_count": 165,
     "metadata": {},
     "output_type": "execute_result"
    }
   ],
   "source": [
    "random.uniform(-90,90)"
   ]
  },
  {
   "cell_type": "code",
   "execution_count": 166,
   "id": "a1c2dda5",
   "metadata": {},
   "outputs": [],
   "source": [
    "# Import the NumPy module.\n",
    "import numpy as np"
   ]
  },
  {
   "cell_type": "code",
   "execution_count": 167,
   "id": "c316c50c",
   "metadata": {},
   "outputs": [
    {
     "data": {
      "text/plain": [
       "-17.750070532322226"
      ]
     },
     "execution_count": 167,
     "metadata": {},
     "output_type": "execute_result"
    }
   ],
   "source": [
    "np.random.uniform(-90.000, 90.000)"
   ]
  },
  {
   "cell_type": "code",
   "execution_count": 168,
   "id": "1e933833",
   "metadata": {},
   "outputs": [
    {
     "data": {
      "text/plain": [
       "array([  6.45624875,  44.53452186, -37.41437747,  82.45597069,\n",
       "        81.15969507, -10.89975843,  79.85202749,  39.60587493,\n",
       "        13.93149726,  60.52506561, -17.45274552, -61.13311822,\n",
       "         4.34835405,  68.97351724,  41.00912734, -15.36731418,\n",
       "       -12.17414764,  -6.81966725,  77.06642287,   1.82392178,\n",
       "       -38.26167087,  68.47875395, -31.35527164, -62.3352987 ,\n",
       "       -52.57276824, -44.55274444, -13.72758787,   6.0809181 ,\n",
       "       -21.69301774,  23.37389153, -31.61621899,  65.58195632,\n",
       "        33.6662282 , -67.70331096, -48.65645146, -25.80118849,\n",
       "       -67.14538417, -42.15436384, -31.78509073, -22.55937691,\n",
       "        21.38718847, -62.55178034,  46.94258632, -72.72427717,\n",
       "        17.37471059, -27.3903881 , -19.61336628, -52.24601343,\n",
       "        85.2285697 ,  51.5708762 ])"
      ]
     },
     "execution_count": 168,
     "metadata": {},
     "output_type": "execute_result"
    }
   ],
   "source": [
    "np.random.uniform(-90.000, 90.000, size=50)"
   ]
  },
  {
   "cell_type": "code",
   "execution_count": 169,
   "id": "ebb0a4d3",
   "metadata": {},
   "outputs": [],
   "source": [
    "# Import timeit.\n",
    "import timeit"
   ]
  },
  {
   "cell_type": "code",
   "execution_count": 170,
   "id": "99be2da7",
   "metadata": {},
   "outputs": [
    {
     "name": "stdout",
     "output_type": "stream",
     "text": [
      "11.8 µs ± 99.2 ns per loop (mean ± std. dev. of 7 runs, 100000 loops each)\n"
     ]
    }
   ],
   "source": [
    "%timeit np.random.uniform(-90.000, 90.000, size=1500)"
   ]
  },
  {
   "cell_type": "code",
   "execution_count": 171,
   "id": "8ee189c3",
   "metadata": {},
   "outputs": [
    {
     "name": "stdout",
     "output_type": "stream",
     "text": [
      "1.57 ms ± 15.1 µs per loop (mean ± std. dev. of 7 runs, 1000 loops each)\n"
     ]
    }
   ],
   "source": [
    "def latitudes(size):\n",
    "    latitudes = []\n",
    "    x = 0\n",
    "    while x < (size):\n",
    "        random_lat = random.randint(-90, 90) + random.random()\n",
    "        latitudes.append(random_lat)\n",
    "        x += 1\n",
    "    return latitudes\n",
    "# Call the function with 1500.\n",
    "%timeit latitudes(1500)"
   ]
  },
  {
   "cell_type": "code",
   "execution_count": null,
   "id": "1ec8f5a1",
   "metadata": {},
   "outputs": [],
   "source": [
    "#Skill Drill: Refactor the code for the while loop with the %timeit magic command and write a for loop that will generate the 1,500 latitudes.\n",
    "\n",
    "def latitudes(size):\n",
    "    latitudes = []\n",
    "    x = 0\n",
    "    while x < (size):\n",
    "        random_lat = random.randint(-90, 90) + random.random()\n",
    "        latitudes.append(random_lat)\n",
    "        x += 1\n",
    "    return latitudes\n",
    "# Call the function wit"
   ]
  },
  {
   "cell_type": "code",
   "execution_count": null,
   "id": "e64589e9",
   "metadata": {},
   "outputs": [],
   "source": []
  }
 ],
 "metadata": {
  "interpreter": {
   "hash": "f55d39f92e1011f1d86308bdf4475bdc3384b8a393b2f7caf818310cf52db692"
  },
  "kernelspec": {
   "display_name": "Python 3.7.11 ('PythonData')",
   "language": "python",
   "name": "python3"
  },
  "language_info": {
   "codemirror_mode": {
    "name": "ipython",
    "version": 3
   },
   "file_extension": ".py",
   "mimetype": "text/x-python",
   "name": "python",
   "nbconvert_exporter": "python",
   "pygments_lexer": "ipython3",
   "version": "3.7.11"
  }
 },
 "nbformat": 4,
 "nbformat_minor": 5
}
